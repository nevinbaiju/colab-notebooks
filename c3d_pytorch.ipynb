{
  "nbformat": 4,
  "nbformat_minor": 0,
  "metadata": {
    "colab": {
      "name": "c3d-pytorch.ipynb",
      "version": "0.3.2",
      "provenance": [],
      "include_colab_link": true
    },
    "kernelspec": {
      "name": "python3",
      "display_name": "Python 3"
    },
    "accelerator": "GPU"
  },
  "cells": [
    {
      "cell_type": "markdown",
      "metadata": {
        "id": "view-in-github",
        "colab_type": "text"
      },
      "source": [
        "<a href=\"https://colab.research.google.com/github/nevinbaiju/colab-notebooks/blob/master/c3d_pytorch.ipynb\" target=\"_parent\"><img src=\"https://colab.research.google.com/assets/colab-badge.svg\" alt=\"Open In Colab\"/></a>"
      ]
    },
    {
      "metadata": {
        "id": "6x-tB3e6tmE6",
        "colab_type": "code",
        "colab": {}
      },
      "cell_type": "code",
      "source": [
        "# installing the pytorch libraries\n",
        "!pip3 install torch torchvision"
      ],
      "execution_count": 0,
      "outputs": []
    },
    {
      "metadata": {
        "id": "XWbBr_83xoGY",
        "colab_type": "code",
        "colab": {}
      },
      "cell_type": "code",
      "source": [
        "!pip install --no-cache-dir -I pillow"
      ],
      "execution_count": 0,
      "outputs": []
    },
    {
      "metadata": {
        "id": "Y09sW1LYyhTZ",
        "colab_type": "code",
        "colab": {}
      },
      "cell_type": "code",
      "source": [
        "!git clone https://github.com/DavideA/c3d-pytorch.git"
      ],
      "execution_count": 0,
      "outputs": []
    },
    {
      "metadata": {
        "id": "iuFTgnwyyle7",
        "colab_type": "code",
        "colab": {}
      },
      "cell_type": "code",
      "source": [
        "!wget imagelab.ing.unimore.it/files/c3d_pytorch/c3d.pickle"
      ],
      "execution_count": 0,
      "outputs": []
    },
    {
      "metadata": {
        "id": "J3dbAwYB186R",
        "colab_type": "code",
        "colab": {}
      },
      "cell_type": "code",
      "source": [
        "!mv c3d-pytorch/* ."
      ],
      "execution_count": 0,
      "outputs": []
    },
    {
      "metadata": {
        "id": "dpkgOn7Z2Dx1",
        "colab_type": "code",
        "outputId": "66dbd08a-d60b-4dc1-8e9c-1234d47b1d9e",
        "colab": {
          "base_uri": "https://localhost:8080/",
          "height": 34
        }
      },
      "cell_type": "code",
      "source": [
        "!rm -r c3d-pytorch/\n",
        "!ls"
      ],
      "execution_count": 0,
      "outputs": [
        {
          "output_type": "stream",
          "text": [
            "C3D_model.py  c3d.pickle  data\tlabels.txt  predict.py\tREADME.md  sample_data\n"
          ],
          "name": "stdout"
        }
      ]
    },
    {
      "metadata": {
        "id": "GjVI12Eh4K9A",
        "colab_type": "code",
        "colab": {}
      },
      "cell_type": "code",
      "source": [
        "!pip install --no-cache-dir -I pillow"
      ],
      "execution_count": 0,
      "outputs": []
    },
    {
      "metadata": {
        "id": "YR1Rpy4e3ELY",
        "colab_type": "code",
        "colab": {}
      },
      "cell_type": "code",
      "source": [
        "from PIL import Image\n",
        "import cv2"
      ],
      "execution_count": 0,
      "outputs": []
    },
    {
      "metadata": {
        "id": "pq00Hg8Y1Nws",
        "colab_type": "code",
        "colab": {}
      },
      "cell_type": "code",
      "source": [
        "import numpy as np\n",
        "\n",
        "import torch\n",
        "from torch.autograd import Variable\n",
        "\n",
        "from os.path import join\n",
        "from glob import glob\n",
        "\n",
        "import skimage.io as io\n",
        "from skimage.transform import resize\n",
        "\n",
        "from C3D_model import C3D"
      ],
      "execution_count": 0,
      "outputs": []
    },
    {
      "metadata": {
        "id": "iEbl5h6-2QTs",
        "colab_type": "code",
        "colab": {}
      },
      "cell_type": "code",
      "source": [
        "def get_sport_clip(clip_name, verbose=True):\n",
        "    \"\"\"\n",
        "    Loads a clip to be fed to C3D for classification.\n",
        "    TODO: should I remove mean here?\n",
        "    \n",
        "    Parameters\n",
        "    ----------\n",
        "    clip_name: str\n",
        "        the name of the clip (subfolder in 'data').\n",
        "    verbose: bool\n",
        "        if True, shows the unrolled clip (default is True).\n",
        "    Returns\n",
        "    -------\n",
        "    Tensor\n",
        "        a pytorch batch (n, ch, fr, h, w).\n",
        "    \"\"\"\n",
        "\n",
        "    clip = sorted(glob(join('data', clip_name, '*.png')))\n",
        "    clip = np.array([resize(cv2.imread(frame), output_shape=(112, 200), preserve_range=True) for frame in clip])\n",
        "    clip = clip[:, :, 44:44+112, :]  # crop centrally\n",
        "\n",
        "    if verbose:\n",
        "        clip_img = np.reshape(clip.transpose(1, 0, 2, 3), (112, 16 * 112, 3))\n",
        "        io.imshow(clip_img.astype(np.uint8))\n",
        "        io.show()\n",
        "\n",
        "    clip = clip.transpose(3, 0, 1, 2)  # ch, fr, h, w\n",
        "    clip = np.expand_dims(clip, axis=0)  # batch axis\n",
        "    clip = np.float32(clip)\n",
        "\n",
        "    return torch.from_numpy(clip)\n",
        "\n",
        "\n",
        "def read_labels_from_file(filepath):\n",
        "    \"\"\"\n",
        "    Reads Sport1M labels from file\n",
        "    \n",
        "    Parameters\n",
        "    ----------\n",
        "    filepath: str\n",
        "        the file.\n",
        "        \n",
        "    Returns\n",
        "    -------\n",
        "    list\n",
        "        list of sport names.\n",
        "    \"\"\"\n",
        "    with open(filepath, 'r') as f:\n",
        "        labels = [line.strip() for line in f.readlines()]\n",
        "    return labels\n",
        "\n",
        "\n",
        "def main():\n",
        "    \"\"\"\n",
        "    Main function.\n",
        "    \"\"\"\n",
        "\n",
        "    # load a clip to be predicted\n",
        "    X = get_sport_clip('roger')\n",
        "    X = Variable(X)\n",
        "    X = X.cuda()\n",
        "\n",
        "    # get network pretrained model\n",
        "    net = C3D()\n",
        "    net.load_state_dict(torch.load('c3d.pickle'))\n",
        "    net.cuda()\n",
        "    net.eval()\n",
        "\n",
        "    # perform prediction\n",
        "    prediction = net(X)\n",
        "    prediction = prediction.data.cpu().numpy()\n",
        "\n",
        "    # read labels\n",
        "    labels = read_labels_from_file('labels.txt')\n",
        "\n",
        "    # print top predictions\n",
        "    top_inds = prediction[0].argsort()[::-1][:5]  # reverse sort and take five largest items\n",
        "    print('\\nTop 5:')\n",
        "    for i in top_inds:\n",
        "      print('{:.5f} {}'.format(prediction[0][i], labels[i]))"
      ],
      "execution_count": 0,
      "outputs": []
    },
    {
      "metadata": {
        "id": "e-PBzbud2aMC",
        "colab_type": "code",
        "colab": {}
      },
      "cell_type": "code",
      "source": [
        "main()\n",
        "%time\n",
        "!nvidia-smi"
      ],
      "execution_count": 0,
      "outputs": []
    },
    {
      "metadata": {
        "id": "hitRJ9lM1iph",
        "colab_type": "code",
        "colab": {}
      },
      "cell_type": "code",
      "source": [
        ""
      ],
      "execution_count": 0,
      "outputs": []
    }
  ]
}